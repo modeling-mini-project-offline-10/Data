{
 "cells": [
  {
   "cell_type": "markdown",
   "id": "1805af68",
   "metadata": {},
   "source": [
    "!클릭하기!"
   ]
  },
  {
   "cell_type": "markdown",
   "id": "ec0c1e57",
   "metadata": {},
   "source": [
    "### Transaction\n",
    "-\n",
    "<details><summary>!정리!</summary>\n",
    "<h5>1. Transaction table(거래 테이블) <br></h5>\n",
    "->\"다른 사람을 위해 티켓을 예약한 것과 같은 송금 및 기타 선물 상품 및 서비스가 포함되어 있습니다.\" <br>\n",
    "<h5>2. TransactionDT: 주어진 참조 datetime의 timedelta(실제 타임스탬프가 아님) <br> </h5>\n",
    "->“TransactionDT의 첫 번째 값은 86400이며 이는 하루의 초 수(60 * 60 * 24 = 86400)에 해당\n",
    "하므로 단위는 초라고 생각합니다. <br>\n",
    "->. 이를 사용하여 최대 값이 15811131이고 183일에 해당하므로 데이터가 6개월에 걸쳐 있음을 알 수 있습니다.\" <br>\n",
    "<h5>3. TransactionAMT: 미화 거래 결제 금액 <br> </h5>\n",
    "-> 일부 거래 금액은 소수점 오른쪽에 소수점 세 자리가 있습니다. <br>\n",
    "-> 소수점 세 자리와 빈 addr1 및 addr2 필드에 대한 링크가 있는 것 같습니다. <br>\n",
    "-> 이것이 외국 거래이고 예를 들어 12행의 75.887이 외화 금액에 환율을 곱한 결과일 수 있습니까?”<br>\n",
    "<h5>4. ProductCD: 제품 코드, 각 거래에 대한 제품 <br> </h5>\n",
    "-> “제품은 실제 '제품'일 필요가 없습니다(예: 장바구니에 추가할 하나의 항목). <br>\n",
    "-> 모든 종류의 서비스가 될 수 있습니다.”<br>\n",
    "<h5>5. card1 - card6: 카드 종류, 카드 종류, 발행 은행, 국가 등의 결제 카드 정보 <br></h5>\n",
    "<h5>6. addr: address(주소) <br></h5>\n",
    "-> \"두 주소는 모두 청구서 수신 지역인 addr1 구매자의 주소입니다 <br>\n",
    "<h5>7. addr2 청구 국가\" <br></h5>\n",
    "<h5>8. dist: distance <br></h5>\n",
    "-> \"청구서 수신 주소, 우편 주소, 우편 번호, IP 주소, 전화 지역 등 사이의 거리(제한되지 않음)\" <br>\n",
    "<h5>9. P_ 및 (R__) emaildomain: 구매자 및 수신자 이메일 도메인 <br></h5>\n",
    "->\"특정 거래에는 수신자가 필요하지 않으므로 R_emaildomain은 null입니다. <br>\n",
    "->\" C1-C14: 계산, 예를 들어 지불 카드와 연결된 것으로 확인된 주소 수 등 실제 의미는 가려져 있습니다.<br>\n",
    "-> 전화번호, 이메일 주소, 사용자와 관련된 이름의 개수 15개가 생각나지 않습니다.<br>\n",
    "-> 당신의 추측은 좋고 device, ipaddr, billingaddr 등과 같은 것입니다. 또한 이것은 구매자와 수신자 -> 모두를 위한 것이므로 숫자가 두 배로 늘어납니다.”<br>\n",
    "<h5>10. D1-D15: 이전 거래 사이의 날짜 등과 같은 시간 델타<br></h5>\n",
    "<h5>11. M1-M9: 카드 및 주소의 이름과 같은 일치<br></h5>\n",
    "<h5>12. Vxxx: 순위, 계산 및 기타 엔터티 관계를 포함한 Vesta 엔지니어링 풍부한 기능.<br></h5>\n",
    "-> \"예를 들어, IP 및 이메일 또는 주소와 연결된 결제 카드가 24시간 동안 몇 번 나타났는지 등\"<br>\n",
    "-> \"모든 Vesta 기능은 숫자로 파생되었습니다. \n",
    "-> 그 중 일부는 클러스터링, 기간 또는 조건 내의 주문 수이므로 값은 유한하고 순서(또는 순위)가 있습니다. <br>\n",
    "->나는 그것들 중 어느 것도 취급하지 않는 것이 좋습니다. <br>\n",
    "->그 중 하나라도 우연히 이진법이 되었다면 시도해 볼 가치가 있을 것입니다.\"<br>\n",
    "</details>\n",
    "-\n",
    "<details><summary>참고자료(범주기능.)</summary>\n",
    "1. 범주 기능: <br>\n",
    "2. ProductCD <br>\n",
    "3. card1 - card6 <br>\n",
    "4. addr1, addr2 <br>\n",
    "5. P_emaildomain <br>\n",
    "6. R_emaildomain <br>\n",
    "7. M1 - M9 <br>\n",
    "</details>\n",
    "\n",
    "- <br>\n",
    "<details>\n",
    "    <summary>컬럼 요약.</summary>\n",
    "    \n",
    "1. TransactionDT: 주어진 포인트로부터 타임델타 (실 타임 스템프는 아님) <br>\n",
    "2. TransactionAMT: 미국 달러로 결제한 거래 액수 <br>\n",
    "3. ProductCD: 상품 코드, 거래한 상품 <br>\n",
    "4. card1 — card6: 지불 수단 카드 정보, 카드 타입, 카드 분류, 은행, 국가 등 <br>\n",
    "5. addr: 주소 <br> \n",
    "6. dist: 거리 <br> \n",
    "7. P_ and (R__) emaildomain: 구매자의 이메일 정보 <br>\n",
    "8. C1-C14: 카운팅 얼마나 많은 주소가 연결되었느냐 등인데 실제 내용은 마스킹 되어 있어서 파악이 안 됨 <br>\n",
    "9. D1-D15: 타임델타, 예를 들어 그 전 거래부터 얼마나 되었는지 등 <br>\n",
    "10. M1-M9: 매치...카드와 이름 주소의 매치 등 <br>\n",
    "11. Vxxx: Vesta 제작 항목 랭킹, 카운팅, 기타 관련 <br>\n",
    "12. identity table의 항목은 네트워크 연결 정보 예를 들어 IP, ISP, Proxy, 등 또는 디지털 시그내 <br>\n",
    "13. UA/browser/os/version 등으로 거래 관련 정보를 나타낸다 <br>\n",
    "</details>"
   ]
  },
  {
   "cell_type": "markdown",
   "id": "5f489887",
   "metadata": {},
   "source": [
    "### Identity Table\n",
    "-\n",
    "<details><summary>!Identity Table!</summary>\n",
    "<H5>이 테이블의 변수는 네트워크 연결 정보(IP, ISP, Proxy 등)와 트랜잭션과 관련된 디지털 서명(UA/browser/os/version 등)의 ID 정보입니다.</H5><br>\n",
    "-> Vesta의 사기 방지 시스템과 디지털 보안 파트너가 수집합니다.<br>\n",
    "-> (필드명은 마스킹 처리되며 개인정보 보호 및 계약 동의를 위해 pairwise 사전은 제공하지 않습니다)<br>\n",
    "-> “id01 ~ id11은 기기 등급, ip_domain 등급, 프록시 등급 등 <br>\n",
    "-> Vesta와 보안 파트너가 수집하는 신원에 대한 숫자 기능입니다. <br>\n",
    "-> 또한 계정 로그인 횟수/로그인 실패 횟수, 계정 기간과 같은 행동 지문을 기록했습니다. <br>\n",
    "-> 페이지에 머물렀다 등. 이들은 모두 보안 파트너 T&C로 인해 자세히 설명할 수 없습니다.<br>\n",
    "->이러한 기능의 기본적인 의미를 파악하고 수치/범주로 언급하여 부적절하게 다루지 않기를 바랍니다.”<br>\n",
    "\n",
    "<h5>레이블 지정 논리</h5>\n",
    "-> \"우리 레이블 논리는 카드에 보고된 지불 거절을 사기 거래(isFraud=1)로 정의하고 <br>\n",
    "->사용자 계정, 이메일 주소 또는 청구 주소 중 하나가 이러한 속성에 직접 연결된 이후의 거래도 사기로 정의합니다. <br>\n",
    "-> 위의 내용이 120일 이상 보고되고 발견되면 합법적인 거래로 정의합니다(isFraud=0)<br>\n",
    "-> 그러나 실제 세계에서는 사기 행위가 보고되지 않을 수 있습니다<br>\n",
    "-> (예: 카드 소지자가 알지 못하거나 제때 보고하는 것을 잊어버렸거나 청구 기간이 지난 경우). 등등. <br>\n",
    "-> 이런 경우 사기로 추정되는 것이 적법한 것으로 분류될 수 있지만 <br>\n",
    "->우리는 결코 알 수 없기 때문에 이례적인 경우이고 미미한 부분이라고 생각합니다. <br>"
   ]
  },
  {
   "cell_type": "markdown",
   "id": "f871f660",
   "metadata": {},
   "source": [
    "\n",
    "<details><summary>ieee 카드 거래 사기일 확률 목표(예측)</summary>\n",
    "1. 온라인 카드 거래가 사기일 확률을 정확하게 예측하는 기계 <br>\n",
    "2. 이진 대상 기능인 \"isFraud\"로 표시되는 사기성 온라인 거래의 확률을 예측 <br>\n",
    "3. 데이터 파일의 구조를 제외하고는 데이터에 대해 알려진 것이 거의 없다. <br>\n",
    "4. 데이터가 어떤 것인지 더 알아보기 위해 데이터 탐색해봐야 할 것 같다. <br>\n",
    "</details>    "
   ]
  },
  {
   "cell_type": "markdown",
   "id": "f3cfb791",
   "metadata": {},
   "source": [
    "Categorical Features - Transaction [범주 기능]\n",
    "ProductCD <br>\n",
    "card1-card6<br>\n",
    "addr1,addr2<br>\n",
    "P_emaildomain<br>\n",
    "R_emaildomain<br>\n",
    "M1-M9<br>\n",
    "\n",
    "Categorical Features - Identity <br>\n",
    "DeviceType <br>\n",
    "DeviceInfo<br>\n",
    "id_12-id_38<br>"
   ]
  },
  {
   "cell_type": "markdown",
   "id": "fb5cb71a",
   "metadata": {},
   "source": [
    "## 라이브러리 설치"
   ]
  },
  {
   "cell_type": "code",
   "execution_count": 16,
   "id": "6a12f4cc",
   "metadata": {},
   "outputs": [],
   "source": [
    "# 라이브러리 불러오기\n",
    "import numpy as np   # 넘파이 불러오기\n",
    "import pandas as pd  # 판다스 불러오기\n",
    "import matplotlib    #  matplotlib\n",
    "import matplotlib.pyplot as plt \n",
    "import seaborn as sns \n",
    "\n",
    "from sklearn.impute import SimpleImputer\n",
    "from sklearn.preprocessing import LabelEncoder\n",
    "from sklearn.utils import resample\n",
    "from sklearn.metrics import roc_auc_score,precision_recall_curve,roc_curve\n",
    "from sklearn.model_selection import train_test_split\n",
    "from sklearn.linear_model import LogisticRegression\n",
    "from sklearn.manifold import TSNE\n",
    "from sklearn.decomposition import PCA, TruncatedSVD\n",
    "import time\n",
    "import matplotlib.patches as mpatches\n",
    "from sklearn.metrics import confusion_matrix\n",
    "from lightgbm import LGBMClassifier\n",
    "from sklearn.datasets import load_breast_cancer\n",
    "\n",
    "sns.set(color_codes=True)\n",
    "tips = sns.load_dataset(\"tips\")\n",
    "\n",
    "import warnings\n",
    "warnings.filterwarnings('ignore')\n",
    "color_pal = [x['color'] for x in plt.rcParams['axes.prop_cycle']]"
   ]
  },
  {
   "cell_type": "markdown",
   "id": "e293b616",
   "metadata": {},
   "source": [
    "## 데이터 불러오기"
   ]
  },
  {
   "cell_type": "code",
   "execution_count": 17,
   "id": "71006410",
   "metadata": {},
   "outputs": [],
   "source": [
    "# 한거번에 불러와 base_path에 넣기.\n",
    "base_path = \"/Users/krc/Desktop/오프라인10조 프로젝트/6월/ieee-fraud-detection/\""
   ]
  },
  {
   "cell_type": "code",
   "execution_count": 18,
   "id": "bfc7815e",
   "metadata": {},
   "outputs": [],
   "source": [
    "# 데이터 ieee파일 5개 불러오기\n",
    "\n",
    "# Sample Submissions\n",
    "submission = pd.read_csv(base_path +\"sample_submission.csv\", encoding = \"cp949\")\n",
    "# identity.CSV\n",
    "test_i = pd.read_csv(base_path + \"test_identity.csv\", encoding = \" cp949\")\n",
    "train_i = pd.read_csv(base_path + \"train_identity.csv\", encoding = \"cp949\")\n",
    "# Transaction CSV\n",
    "test_t = pd.read_csv(base_path + \"test_transaction.csv\", encoding = \"cp949\")\n",
    "train_t = pd.read_csv(base_path + \"train_transaction.csv\", encoding = \"cp949\")"
   ]
  },
  {
   "cell_type": "markdown",
   "id": "a1fb2473",
   "metadata": {},
   "source": [
    "<h3>identity</h3>\n",
    "1. test_i =identity <br>\n",
    "2. train_i =identity\n",
    "<H3>transaction</h3>\n",
    "1. test1_t =transaction<br>\n",
    "2. train1_t =transaction"
   ]
  },
  {
   "cell_type": "code",
   "execution_count": 21,
   "id": "8b7a80c0",
   "metadata": {},
   "outputs": [
    {
     "name": "stdout",
     "output_type": "stream",
     "text": [
      "submission shape is (506691, 2)\n",
      "test_i shape is (506691, 393)\n",
      "train_ishape is (590540, 394)\n",
      "test_t shape is (141907, 41)\n",
      "train_t shape is (144233, 41)\n"
     ]
    }
   ],
   "source": [
    "# 파일 확인\n",
    "\n",
    "# 5개 csv파일 크기 확인 / shape (행, 열) 크기 확인 \n",
    "print('submission shape is {}'.format(submission.shape))\n",
    "print('test_i shape is {}'.format(test_t.shape)) \n",
    "print('train_ishape is {}'.format(train_t.shape)) \n",
    "print('test_t shape is {}'.format(test_i.shape)) \n",
    "print('train_t shape is {}'.format(train_i.shape))\n",
    "\n",
    "# submission (row(열) = 506691, column(행)= 2)\n",
    "# test (row(열) = 141907,  column(행) = 41)\n",
    "# train (row(열)= 144233,  column(행)= 41)\n",
    "# test1 (row(열)= 506691,  column(행)= 393)\n",
    "# train1 (row(열)= 590540, column(행)= 394)"
   ]
  },
  {
   "cell_type": "code",
   "execution_count": 22,
   "id": "4729d3c6",
   "metadata": {},
   "outputs": [
    {
     "name": "stdout",
     "output_type": "stream",
     "text": [
      "<class 'pandas.core.frame.DataFrame'>\n",
      "RangeIndex: 590540 entries, 0 to 590539\n",
      "Columns: 394 entries, TransactionID to V339\n",
      "dtypes: float64(376), int64(4), object(14)\n",
      "memory usage: 1.7+ GB\n"
     ]
    }
   ],
   "source": [
    "#데이터 df의 정보를 출력.\n",
    "train_t.info()"
   ]
  },
  {
   "cell_type": "code",
   "execution_count": 23,
   "id": "4de196c8",
   "metadata": {},
   "outputs": [
    {
     "name": "stdout",
     "output_type": "stream",
     "text": [
      "<class 'pandas.core.frame.DataFrame'>\n",
      "RangeIndex: 144233 entries, 0 to 144232\n",
      "Data columns (total 41 columns):\n",
      " #   Column         Non-Null Count   Dtype  \n",
      "---  ------         --------------   -----  \n",
      " 0   TransactionID  144233 non-null  int64  \n",
      " 1   id_01          144233 non-null  float64\n",
      " 2   id_02          140872 non-null  float64\n",
      " 3   id_03          66324 non-null   float64\n",
      " 4   id_04          66324 non-null   float64\n",
      " 5   id_05          136865 non-null  float64\n",
      " 6   id_06          136865 non-null  float64\n",
      " 7   id_07          5155 non-null    float64\n",
      " 8   id_08          5155 non-null    float64\n",
      " 9   id_09          74926 non-null   float64\n",
      " 10  id_10          74926 non-null   float64\n",
      " 11  id_11          140978 non-null  float64\n",
      " 12  id_12          144233 non-null  object \n",
      " 13  id_13          127320 non-null  float64\n",
      " 14  id_14          80044 non-null   float64\n",
      " 15  id_15          140985 non-null  object \n",
      " 16  id_16          129340 non-null  object \n",
      " 17  id_17          139369 non-null  float64\n",
      " 18  id_18          45113 non-null   float64\n",
      " 19  id_19          139318 non-null  float64\n",
      " 20  id_20          139261 non-null  float64\n",
      " 21  id_21          5159 non-null    float64\n",
      " 22  id_22          5169 non-null    float64\n",
      " 23  id_23          5169 non-null    object \n",
      " 24  id_24          4747 non-null    float64\n",
      " 25  id_25          5132 non-null    float64\n",
      " 26  id_26          5163 non-null    float64\n",
      " 27  id_27          5169 non-null    object \n",
      " 28  id_28          140978 non-null  object \n",
      " 29  id_29          140978 non-null  object \n",
      " 30  id_30          77565 non-null   object \n",
      " 31  id_31          140282 non-null  object \n",
      " 32  id_32          77586 non-null   float64\n",
      " 33  id_33          73289 non-null   object \n",
      " 34  id_34          77805 non-null   object \n",
      " 35  id_35          140985 non-null  object \n",
      " 36  id_36          140985 non-null  object \n",
      " 37  id_37          140985 non-null  object \n",
      " 38  id_38          140985 non-null  object \n",
      " 39  DeviceType     140810 non-null  object \n",
      " 40  DeviceInfo     118666 non-null  object \n",
      "dtypes: float64(23), int64(1), object(17)\n",
      "memory usage: 45.1+ MB\n"
     ]
    }
   ],
   "source": [
    "#데이터 df의 정보를 출력.\n",
    "train_i.info()"
   ]
  },
  {
   "cell_type": "markdown",
   "id": "50334899",
   "metadata": {},
   "source": [
    "Targer variable "
   ]
  },
  {
   "cell_type": "code",
   "execution_count": 25,
   "id": "8a41612a",
   "metadata": {},
   "outputs": [
    {
     "data": {
      "text/plain": [
       "Text(0.5, 1.0, 'Target variable count')"
      ]
     },
     "execution_count": 25,
     "metadata": {},
     "output_type": "execute_result"
    },
    {
     "data": {
      "image/png": "[encoded data removed]",
      "text/plain": [
       "<Figure size 432x288 with 1 Axes>"
      ]
     },
     "metadata": {},
     "output_type": "display_data"
    }
   ],
   "source": [
    "# trian_t의 컬럼에서 isFraud의 갯수를 새서 values를 구해 그래프로 나타내라.\n",
    "\n",
    "x=train_t['isFraud'].value_counts().values\n",
    "sns.barplot([0,1],x)\n",
    "plt.title('Target variable count')"
   ]
  },
  {
   "cell_type": "markdown",
   "id": "b845b30e",
   "metadata": {},
   "source": [
    "클래스 불균형 문제가 있다.\n",
    "\n",
    "Metric trap\n",
    "불균형 데이터를 다룰 때 주요 문제 중 하나는 모델을 평가하는 데 사용되는 메트릭과 관련이 있습니다.<br>\n",
    "Accuracy_score와(정확도) 같은 단순한 측정항목을 사용하면 오해의 소지가 있습니다.<br>\n",
    "매우 불균형한 클래스가 있는 데이터 세트에서 분류기가 기능 분석을 수행하지 않고 가장 일반적인 클래스를 항상 \"예측\"하면 여전히 높은 정확도를 갖게 되며 이는 분명히 환상입니다.<br>\n",
    "----------------------------------------------------------<br>\n",
    "False Positive : 이벤트가 없을 때 이벤트를 예측합니다. <br>\n",
    "False Negative : 실제로 이벤트가 있었지만 이벤트가 없다고 예측합니다.<br>\n",
    "----------------------------------------------------------<br>\n",
    "위에서 보았듯이 정확도는 매우 오도할 수 있으므로 불균형 데이터 세트를 평가할 때 사용하기에 가장 좋은 메트릭이 아닙니다. 더 나은 통찰력을 제공할 수 있는 <br>\n",
    "측정항목은 다음과 같다."
   ]
  },
  {
   "cell_type": "markdown",
   "id": "d982fc18",
   "metadata": {},
   "source": [
    "Confusion Matrix: 정확한 예측과 잘못된 예측의 유형을 보여주는 표 <br>\n",
    "\n",
    "Precision(정밀도) <br>\n",
    "1. 참 긍정의 수를 모든 긍정 예측으로 나눈 값\n",
    "2. 정밀도는 양수 예측 값\n",
    "3. 분류기의 정확성을 측정한 것\n",
    "4. 낮은 정밀도는 많은 수의 가양성\n",
    "\n",
    "Recall(재현율)\n",
    "1. 참 양성의 수를 테스트 데이터의 양성 값의 수로 나눈 값\n",
    "2. 재현율은 민감도 또는 참 양성률이라고도 합니다.\n",
    "3. 분류기의 완성도를 나타내는 척도\n",
    "4. 낮은 재현율은 많은 수의 위음성을 나타냅니다.\n",
    "\n",
    "<br> F1 점수: 정밀도와 재현율의 가중 평균.\n",
    "\n",
    "ROC :곡선은 각 클래스에 대해 거의 동일한 수의 관찰이 있을 때 사용<br>\n",
    "Precision-Recall: 곡선은 중간에서 큰 클래스 불균형이 있을 때 사용"
   ]
  },
  {
   "cell_type": "markdown",
   "id": "642b26bc",
   "metadata": {},
   "source": [
    "Merging transaction and identity dataset : 트랜잭션 및 ID 데이터 세트 병합 <br>\n",
    "We will firt merge our transactions and identity datasets : 트랜잭션과 ID 데이터 세트를 병합<br>"
   ]
  },
  {
   "cell_type": "code",
   "execution_count": 26,
   "id": "58ba33f4",
   "metadata": {},
   "outputs": [
    {
     "name": "stdout",
     "output_type": "stream",
     "text": [
      "Train shape (590540, 435)\n",
      "Data set merged \n"
     ]
    }
   ],
   "source": [
    "# marge() Key기준으로 DataFrame을 합친 것을 train에 넣어라.\n",
    "train=train_t.merge(train_i,how='left',left_index=True,right_index=True)\n",
    "y_train=train['isFraud'].astype('uint8') # trian의 isFraud를 type을 uint8로 봐꾸고 y_train에 넣어라\n",
    "print('Train shape',train.shape)\n",
    "\n",
    "del train_t,train_i\n",
    "print(\"Data set merged \") # 데이터 병합 출력."
   ]
  },
  {
   "cell_type": "markdown",
   "id": "b31119fc",
   "metadata": {},
   "source": [
    "### 메모리 사용량 줄이기 코드\n",
    "경고! 데이터가 손상될 수 있습니다."
   ]
  },
  {
   "cell_type": "code",
   "execution_count": 10,
   "id": "101c5bfa",
   "metadata": {},
   "outputs": [
    {
     "data": {
      "text/plain": [
       "\"\\n%%time\\ndef reduce_mem_usage2(df):\\n    #iterate through all the columns of a dataframe and modify the data type\\n    #to reduce memory usage.    \\n    \\n    \\n    start_mem = df.memory_usage().sum() / 1024**2\\n    print('Memory usage of dataframe is {:.2f} MB'.format(start_mem))\\n    \\n    for col in df.columns:\\n        col_type = df[col].dtype\\n        \\n        if col_type != object:\\n            c_min = df[col].min()\\n            c_max = df[col].max()\\n            if str(col_type)[:3] == 'int':\\n                if c_min > np.iinfo(np.int8).min and c_max < np.iinfo(np.int8).max:\\n                    df[col] = df[col].astype(np.int8)\\n                elif c_min > np.iinfo(np.int16).min and c_max < np.iinfo(np.int16).max:\\n                    df[col] = df[col].astype(np.int16)\\n                elif c_min > np.iinfo(np.int32).min and c_max < np.iinfo(np.int32).max:\\n                    df[col] = df[col].astype(np.int32)\\n                elif c_min > np.iinfo(np.int64).min and c_max < np.iinfo(np.int64).max:\\n                    df[col] = df[col].astype(np.int64)  \\n            else:\\n                if c_min > np.finfo(np.float16).min and c_max < np.finfo(np.float16).max:\\n                    df[col] = df[col].astype(np.float16)\\n                elif c_min > np.finfo(np.float32).min and c_max < np.finfo(np.float32).max:\\n                    df[col] = df[col].astype(np.float32)\\n                else:\\n                    df[col] = df[col].astype(np.float64)\\n        else:\\n            df[col] = df[col].astype('category')\\n\\n    end_mem = df.memory_usage().sum() / 1024**2\\n    print('Memory usage after optimization is: {:.2f} MB'.format(end_mem))\\n    print('Decreased by {:.1f}%'.format(100 * (start_mem - end_mem) / start_mem))\\n    \\n    return df\\n\""
      ]
     },
     "execution_count": 10,
     "metadata": {},
     "output_type": "execute_result"
    }
   ],
   "source": [
    "\"\"\"\n",
    "%%time\n",
    "def reduce_mem_usage2(df):\n",
    "    #iterate through all the columns of a dataframe and modify the data type\n",
    "    #to reduce memory usage.    \n",
    "    \n",
    "    \n",
    "    start_mem = df.memory_usage().sum() / 1024**2\n",
    "    print('Memory usage of dataframe is {:.2f} MB'.format(start_mem))\n",
    "    \n",
    "    for col in df.columns:\n",
    "        col_type = df[col].dtype\n",
    "        \n",
    "        if col_type != object:\n",
    "            c_min = df[col].min()\n",
    "            c_max = df[col].max()\n",
    "            if str(col_type)[:3] == 'int':\n",
    "                if c_min > np.iinfo(np.int8).min and c_max < np.iinfo(np.int8).max:\n",
    "                    df[col] = df[col].astype(np.int8)\n",
    "                elif c_min > np.iinfo(np.int16).min and c_max < np.iinfo(np.int16).max:\n",
    "                    df[col] = df[col].astype(np.int16)\n",
    "                elif c_min > np.iinfo(np.int32).min and c_max < np.iinfo(np.int32).max:\n",
    "                    df[col] = df[col].astype(np.int32)\n",
    "                elif c_min > np.iinfo(np.int64).min and c_max < np.iinfo(np.int64).max:\n",
    "                    df[col] = df[col].astype(np.int64)  \n",
    "            else:\n",
    "                if c_min > np.finfo(np.float16).min and c_max < np.finfo(np.float16).max:\n",
    "                    df[col] = df[col].astype(np.float16)\n",
    "                elif c_min > np.finfo(np.float32).min and c_max < np.finfo(np.float32).max:\n",
    "                    df[col] = df[col].astype(np.float32)\n",
    "                else:\n",
    "                    df[col] = df[col].astype(np.float64)\n",
    "        else:\n",
    "            df[col] = df[col].astype('category')\n",
    "\n",
    "    end_mem = df.memory_usage().sum() / 1024**2\n",
    "    print('Memory usage after optimization is: {:.2f} MB'.format(end_mem))\n",
    "    print('Decreased by {:.1f}%'.format(100 * (start_mem - end_mem) / start_mem))\n",
    "    \n",
    "    return df\n",
    "\"\"\""
   ]
  },
  {
   "cell_type": "markdown",
   "id": "dc7ed9b1",
   "metadata": {},
   "source": [
    "데이터 프레임의 메모리 사용량은 1959.88MB입니다."
   ]
  },
  {
   "cell_type": "code",
   "execution_count": 11,
   "id": "1fc9f9a0",
   "metadata": {},
   "outputs": [
    {
     "data": {
      "text/plain": [
       "'\\n%%time\\ntrain = reduce_mem_usage2(train)\\n'"
      ]
     },
     "execution_count": 11,
     "metadata": {},
     "output_type": "execute_result"
    }
   ],
   "source": [
    "\"\"\"\n",
    "%%time\n",
    "train = reduce_mem_usage2(train)\n",
    "\"\"\""
   ]
  },
  {
   "cell_type": "markdown",
   "id": "5c330401",
   "metadata": {},
   "source": [
    "1. 훈련 및 검증으로 분할\n",
    "2. 이제 기차 데이터 세트를 기차와 유효성 검사 세트로 분할\n",
    "3. 검증을 위해 데이터의 20%를 보관"
   ]
  },
  {
   "cell_type": "code",
   "execution_count": 27,
   "id": "68b4f0b2",
   "metadata": {},
   "outputs": [],
   "source": [
    "X_train,X_test,y_train,y_test= train_test_split(train.drop('isFraud',axis=1),y_train,test_size=.2,random_state=1)"
   ]
  },
  {
   "cell_type": "markdown",
   "id": "404cd75e",
   "metadata": {},
   "source": [
    "#### Resampling:  매우 불균형한 데이터 세트를 처리하기 위해 널리 채택된 기술\n",
    "Datetime Index를 원하는 주기로 나누어주는 메서드\n",
    "1. 이는 다수 클래스에서 샘플 제거(언더 샘플링)\n",
    "2. 소수 클래스에서 더 많은 예제 추가(오버 샘플링)로 구성된다.\n",
    "-----------------------------------------------\n",
    "\n",
    "#### sklearn을 사용한 리샘플링 기법\n",
    "1. 소수 집단을 과도하게 샘플링\n",
    "2. 오버샘플링은 소수 클래스의 복사본을 더 추가하는 것으로 정의할 수 있으며 <br> \n",
    "   오버샘플링은 작업할 데이터가 많지 않을 때 좋은 선택이 될 수 있습니다. <br>\n",
    "3. Scikit-Learn의 Resampling(리샘플링) 모듈을 사용하여 소수 클래스의 샘플을 무작위로 복제합니다."
   ]
  },
  {
   "cell_type": "code",
   "execution_count": 37,
   "id": "4f567eec",
   "metadata": {},
   "outputs": [
    {
     "data": {
      "text/plain": [
       "0    455903\n",
       "1    455903\n",
       "Name: isFraud, dtype: int64"
      ]
     },
     "execution_count": 37,
     "metadata": {},
     "output_type": "execute_result"
    }
   ],
   "source": [
    "# .concat : 주어진 배열이나 기존 배열에 합쳐서 새 배열을 반환. \n",
    "#           [기본 배열 변경 x / 추가된 새로운 배열을 반환]\n",
    "y x train을\n",
    "X=pd.concat([X_train,y_train],axis=1)\n",
    "\n",
    "not_fraud=X[X.isFraud==0]\n",
    "fraud=X[X.isFraud==1]\n",
    "\n",
    "# 업사이클링 \n",
    "# fraud_upsampled = resample(fraud,replace=True,random_state=27)\n",
    "\n",
    "fraud_upsampled = resample(fraud,replace=True,n_samples=len(not_fraud),random_state=27) # \n",
    "\n",
    "#다수와 업샘플링된 소수 결합\n",
    "upsampled = pd.concat([not_fraud, fraud_upsampled])\n",
    "\n",
    "# 확인\n",
    "upsampled.isFraud.value_counts()"
   ]
  },
  {
   "cell_type": "code",
   "execution_count": 38,
   "id": "9dde81bb",
   "metadata": {},
   "outputs": [
    {
     "data": {
      "text/plain": [
       "Text(0, 0.5, 'count')"
      ]
     },
     "execution_count": 38,
     "metadata": {},
     "output_type": "execute_result"
    },
    {
     "data": {
      "image/png": "[encoded data removed]",
      "text/plain": [
       "<Figure size 432x288 with 1 Axes>"
      ]
     },
     "metadata": {},
     "output_type": "display_data"
    }
   ],
   "source": [
    "y = upsampled.isFraud.value_counts()\n",
    "sns.barplot(y= y,x= [0,1])\n",
    "plt.title('upsampled data class count')\n",
    "plt.ylabel('count')"
   ]
  },
  {
   "cell_type": "markdown",
   "id": "5f314699",
   "metadata": {},
   "source": [
    "#### 과소표본 다수 클래스\n",
    "1. 언더샘플링은 다수 클래스의 일부 관찰을 제거하는 것으로 데이터가 많을 때 좋은 선택이 될 수 있다. \n",
    "2. 수백만 개의 행을 생각하면 단점은 가치가 있을 수 있는 정보를 제거한다는 것입니다. \n",
    "3. 이것은 테스트 세트에 대한 underfitting 및 (잘못된 일반화)로 이어질 수 있습니다.\n",
    "4. Scikit-Learn의 리샘플링 모듈을 다시 사용하여 다수 클래스에서 샘플을 무작위로 제거한다."
   ]
  },
  {
   "cell_type": "code",
   "execution_count": 39,
   "id": "59bbbe34",
   "metadata": {},
   "outputs": [
    {
     "data": {
      "text/plain": [
       "0    16529\n",
       "1    16529\n",
       "Name: isFraud, dtype: int64"
      ]
     },
     "execution_count": 39,
     "metadata": {},
     "output_type": "execute_result"
    }
   ],
   "source": [
    "not_fraud_downsampled = resample(not_fraud,\n",
    "                                replace = False, \n",
    "                                n_samples = len(fraud), \n",
    "                                random_state = 27) \n",
    "# combine minority and downsampled majority\n",
    "downsampled = pd.concat([not_fraud_downsampled, fraud])\n",
    "\n",
    "# checking counts\n",
    "downsampled.isFraud.value_counts()"
   ]
  },
  {
   "cell_type": "code",
   "execution_count": 40,
   "id": "634cb22a",
   "metadata": {},
   "outputs": [
    {
     "data": {
      "text/plain": [
       "Text(0, 0.5, 'count')"
      ]
     },
     "execution_count": 40,
     "metadata": {},
     "output_type": "execute_result"
    },
    {
     "data": {
      "image/png": "[encoded data removed]",
      "text/plain": [
       "<Figure size 432x288 with 1 Axes>"
      ]
     },
     "metadata": {},
     "output_type": "display_data"
    }
   ],
   "source": [
    "y=downsampled.isFraud.value_counts()\n",
    "sns.barplot(y=y,x=[0,1])\n",
    "plt.title('downsampled data class count')\n",
    "plt.ylabel('count')"
   ]
  },
  {
   "cell_type": "code",
   "execution_count": 41,
   "id": "e46c83dc",
   "metadata": {},
   "outputs": [
    {
     "data": {
      "text/plain": [
       "<AxesSubplot:title={'center':'Count (target)'}>"
      ]
     },
     "execution_count": 41,
     "metadata": {},
     "output_type": "execute_result"
    },
    {
     "data": {
      "image/png": "[encoded data removed]",
      "text/plain": [
       "<Figure size 432x288 with 1 Axes>"
      ]
     },
     "metadata": {},
     "output_type": "display_data"
    }
   ],
   "source": [
    "from sklearn.datasets import make_classification\n",
    "\n",
    "X, y = make_classification(\n",
    "    n_classes=2, class_sep=1.5, weights=[0.9, 0.1],\n",
    "    n_informative=3, n_redundant=1, flip_y=0,\n",
    "    n_features=20, n_clusters_per_class=1,\n",
    "    n_samples=1000, random_state=10\n",
    ")\n",
    "\n",
    "df = pd.DataFrame(X)\n",
    "df['target'] = y\n",
    "df.target.value_counts().plot(kind='bar', title='Count (target)')"
   ]
  },
  {
   "cell_type": "markdown",
   "id": "f751b873",
   "metadata": {},
   "source": [
    "1. 리샘플링 기술 없이 이 데이터로 실험을 수행\n",
    "2. 로지스틱 회귀 모델에 대한 데이터를 피팅 및 예측하고 출력 점수를 관찰합니다."
   ]
  },
  {
   "cell_type": "code",
   "execution_count": 42,
   "id": "bea78c76",
   "metadata": {},
   "outputs": [],
   "source": [
    "def logistic(X,y):\n",
    "    X_train,X_test,y_train,y_test=train_test_split(X,y,test_size=.2,random_state=1)\n",
    "    lr=LogisticRegression()\n",
    "    lr.fit(X_train,y_train)\n",
    "    prob=lr.predict_proba(X_test)\n",
    "    return (prob[:,1],y_test)"
   ]
  },
  {
   "cell_type": "code",
   "execution_count": 43,
   "id": "cc395819",
   "metadata": {},
   "outputs": [],
   "source": [
    "probs,y_test=logistic(X,y)"
   ]
  },
  {
   "cell_type": "code",
   "execution_count": 47,
   "id": "ab31c615",
   "metadata": {},
   "outputs": [],
   "source": [
    "def plot_pre_curve(y_test,probs):\n",
    "    precision, recall, thresholds = precision_recall_curve(y_test, probs)\n",
    "    plt.plot([0, 1], [0.5, 0.5], linestyle='--')\n",
    "    # plot the precision-recall curve for the model = 모델에 대한 정밀도-재현율 곡선을 플로팅\n",
    "    plt.plot(recall, precision, marker='.')\n",
    "    plt.title(\"precision recall curve\")\n",
    "    plt.xlabel('Recall')\n",
    "    plt.ylabel('Precision')\n",
    "    \n",
    "    plt.show()\n",
    "    \n",
    "def plot_roc(y_test,prob):\n",
    "    fpr, tpr, thresholds = roc_curve(y_test, probs)\n",
    "\n",
    "    plt.plot([0, 1], [0, 1], linestyle='--')\n",
    "    # 모델에 대한 roc 곡선을 플로팅\n",
    "    plt.plot(fpr, tpr, marker='.')\n",
    "    plt.title(\"ROC curve\")\n",
    "    plt.xlabel('false positive rate')\n",
    "    plt.ylabel('true positive rate')\n",
    "    # 보여줘. 그래프\n",
    "    plt.show()"
   ]
  },
  {
   "cell_type": "code",
   "execution_count": 48,
   "id": "2298ade8",
   "metadata": {},
   "outputs": [
    {
     "data": {
      "image/png": "[encoded data removed]",
      "text/plain": [
       "<Figure size 432x288 with 1 Axes>"
      ]
     },
     "metadata": {},
     "output_type": "display_data"
    }
   ],
   "source": [
    "plot_pre_curve(y_test,probs)"
   ]
  },
  {
   "cell_type": "code",
   "execution_count": 36,
   "id": "68b6236d",
   "metadata": {},
   "outputs": [
    {
     "data": {
      "text/plain": [
       "<bound method DataFrame.info of         TransactionID_x  TransactionDT  TransactionAmt ProductCD  card1  \\\n",
       "79650           3066650        1721406          15.000         S  15111   \n",
       "237714          3224714        5610189          32.500         W   8469   \n",
       "508520          3495520       13310750          59.000         W   7919   \n",
       "570826          3557826       15164286         141.000         W   9002   \n",
       "183197          3170197        4054258         226.000         W  12577   \n",
       "...                 ...            ...             ...       ...    ...   \n",
       "78896           3065896        1714052          54.000         W   7744   \n",
       "228120          3215120        5412228         159.950         W   6054   \n",
       "172423          3159423        3721091          20.522         C   9633   \n",
       "243             2987243          90246          37.098         C  13413   \n",
       "73349           3060349        1627928          34.090         W   7585   \n",
       "\n",
       "        card2  card3       card4  card5   card6  ...  id_32      id_33  \\\n",
       "79650   310.0  150.0  mastercard  224.0   debit  ...   24.0  2880x1800   \n",
       "237714  298.0  150.0        visa  226.0   debit  ...    NaN        NaN   \n",
       "508520  194.0  150.0  mastercard  166.0   debit  ...    NaN        NaN   \n",
       "570826  453.0  150.0        visa  226.0   debit  ...    NaN        NaN   \n",
       "183197  268.0  150.0        visa  166.0   debit  ...    NaN        NaN   \n",
       "...       ...    ...         ...    ...     ...  ...    ...        ...   \n",
       "78896   417.0  150.0        visa  226.0   debit  ...    NaN        NaN   \n",
       "228120  327.0  150.0    discover    NaN  credit  ...    NaN        NaN   \n",
       "172423  296.0  185.0        visa  138.0   debit  ...    NaN        NaN   \n",
       "243     103.0  185.0        visa  137.0  credit  ...    NaN        NaN   \n",
       "73349   553.0  150.0        visa  226.0  credit  ...    NaN        NaN   \n",
       "\n",
       "                 id_34  id_35 id_36 id_37  id_38  DeviceType  \\\n",
       "79650   match_status:2      T     F     T      T     desktop   \n",
       "237714             NaN    NaN   NaN   NaN    NaN         NaN   \n",
       "508520             NaN    NaN   NaN   NaN    NaN         NaN   \n",
       "570826             NaN    NaN   NaN   NaN    NaN         NaN   \n",
       "183197             NaN    NaN   NaN   NaN    NaN         NaN   \n",
       "...                ...    ...   ...   ...    ...         ...   \n",
       "78896              NaN      F     F     T      F     desktop   \n",
       "228120             NaN    NaN   NaN   NaN    NaN         NaN   \n",
       "172423             NaN    NaN   NaN   NaN    NaN         NaN   \n",
       "243                NaN      F     F     T      T      mobile   \n",
       "73349              NaN      F     F     T      F     desktop   \n",
       "\n",
       "                          DeviceInfo  isFraud  \n",
       "79650                          MacOS        0  \n",
       "237714                           NaN        0  \n",
       "508520                           NaN        0  \n",
       "570826                           NaN        0  \n",
       "183197                           NaN        0  \n",
       "...                              ...      ...  \n",
       "78896                        Windows        1  \n",
       "228120                           NaN        1  \n",
       "172423                           NaN        1  \n",
       "243     Moto E (4) Build/NMA26.42-19        1  \n",
       "73349                        Windows        1  \n",
       "\n",
       "[33058 rows x 435 columns]>"
      ]
     },
     "execution_count": 36,
     "metadata": {},
     "output_type": "execute_result"
    }
   ],
   "source": [
    "downsampled.info"
   ]
  },
  {
   "cell_type": "code",
   "execution_count": 34,
   "id": "b6bb3de7",
   "metadata": {},
   "outputs": [
    {
     "ename": "NameError",
     "evalue": "name 'train_i' is not defined",
     "output_type": "error",
     "traceback": [
      "\u001b[0;31m---------------------------------------------------------------------------\u001b[0m",
      "\u001b[0;31mNameError\u001b[0m                                 Traceback (most recent call last)",
      "Input \u001b[0;32mIn [34]\u001b[0m, in \u001b[0;36m<cell line: 2>\u001b[0;34m()\u001b[0m\n\u001b[1;32m      1\u001b[0m \u001b[38;5;66;03m# train_i 데이터 전부 가져오기.\u001b[39;00m\n\u001b[0;32m----> 2\u001b[0m \u001b[43mtrain_i\u001b[49m\u001b[38;5;241m.\u001b[39mhead()\n",
      "\u001b[0;31mNameError\u001b[0m: name 'train_i' is not defined"
     ]
    }
   ],
   "source": [
    "# train_i 데이터 전부 가져오기.\n",
    "train_i.head()"
   ]
  },
  {
   "cell_type": "code",
   "execution_count": null,
   "id": "128b9ff8",
   "metadata": {},
   "outputs": [],
   "source": [
    "# train_i의 결측값 확인하기.\n",
    "train_i.isnull()"
   ]
  },
  {
   "cell_type": "code",
   "execution_count": null,
   "id": "629a9c15",
   "metadata": {},
   "outputs": [],
   "source": [
    "train_i.value_counts()"
   ]
  },
  {
   "cell_type": "code",
   "execution_count": null,
   "id": "6a7da8dc",
   "metadata": {},
   "outputs": [],
   "source": [
    "# train_i의 결측값을 더해 -> trian_na에 저장하기.\n",
    "train_na = train_i.isnull().sum().sum()"
   ]
  },
  {
   "cell_type": "code",
   "execution_count": null,
   "id": "78d1dc66",
   "metadata": {},
   "outputs": [],
   "source": [
    "# 결과\n",
    "train_na"
   ]
  },
  {
   "cell_type": "code",
   "execution_count": null,
   "id": "e26c7d00",
   "metadata": {},
   "outputs": [],
   "source": [
    "# train_t 데이터 전부 가져오기.\n",
    "train_t"
   ]
  },
  {
   "cell_type": "code",
   "execution_count": null,
   "id": "114646a5",
   "metadata": {},
   "outputs": [],
   "source": [
    "#train 데이터 정보\n",
    "train_t.info"
   ]
  },
  {
   "cell_type": "code",
   "execution_count": null,
   "id": "d87ac4ed",
   "metadata": {},
   "outputs": [],
   "source": [
    "# train이랑 test 컬럼 중 TransactionID의 유니크 값을 구해라.\n",
    "# 모든 트렌젝션ID의 합을 출력해라.\n",
    "print(np.sum(train_t['TransactionID'].isin(train_i['TransactionID'].unique())))\n",
    "print(np.sum(test_t['TransactionID'].isin(test_i['TransactionID'].unique())))\n",
    "\n",
    "# isin : Column이 list의 값들을 포함하고 있는 모든 행들을 골라낼 때 주로 쓴다.\n",
    "# unique : Colimn의 고유값을 볼 수 있다.\n",
    "# train의 고유값(unique) 값을 보게 만들고 isin[리스트 값들을 포함해 골라내라서 np.sum더해서 출력해라"
   ]
  },
  {
   "cell_type": "markdown",
   "id": "45e08aa1",
   "metadata": {},
   "source": [
    "1. test vs Train 시계열 분할이다.\n",
    "2. TransactionDT 기능은 실제 타임스탬프가 아닌 주어진 참조 날짜/시간의 타임테이블\n",
    "3. 시간에 따라 분할된 것처럼 보인다는 것\n",
    "4. 훈련 세트는 더 이른 기간의 것 / 테스트는 더 늦은 기간의 것"
   ]
  },
  {
   "cell_type": "code",
   "execution_count": null,
   "id": "a03117e5",
   "metadata": {},
   "outputs": [],
   "source": [
    "# train_t의 TransactionDT 그래프를 그려라\n",
    "train_t['TransactionDT'].plot(kind = 'hist',\n",
    "                             figsize=(15, 5),\n",
    "                             label= 'train', \n",
    "                             bins= 50, \n",
    "                             title='Train vs test TransactionDT distribution') \n",
    "test_t['TransactionDT'].plot(kind=\"hist\",\n",
    "                            label ='test',\n",
    "                            bins=50)\n",
    "plt.show()"
   ]
  },
  {
   "cell_type": "code",
   "execution_count": null,
   "id": "fb66d5bf",
   "metadata": {},
   "outputs": [],
   "source": [
    "# tmain_t 그래프 그리기.\n",
    "\n",
    "ax = train_t.plot(x = 'TransactionDT',\n",
    "             y = 'TransactionAmt',\n",
    "             kind = 'scatter',\n",
    "             alpha = 0.01,\n",
    "             label= 'TransactionAmt-train',\n",
    "             title = 'Title and test Transaction Ammounts by Time (TransactionDT)',\n",
    "             ylim=(0, 5000),\n",
    "             figsize=(15 , 5))\n",
    "\n",
    "test_t.plot(x = 'TransactionDT',\n",
    "            y = 'TransactionAmt',\n",
    "            kind= 'scatter',\n",
    "            label= 'TransactionAmt-test',\n",
    "            alpha = 0.01,\n",
    "            color = color_pal[1],\n",
    "            ylim=(0, 5000),\n",
    "            ax =ax)\n",
    "\n",
    "train_t.loc[train_t['isFraud'] ==1] \\\n",
    "    .plot(x = 'TransactionDT',\n",
    "          y = 'TransactionAmt',\n",
    "          kind = 'scatter',\n",
    "          alpha = 0.01,\n",
    "          label= 'TransactionAmt-train',\n",
    "          title = 'Title and test Transaction Ammounts by Time (TransactionDT)',\n",
    "          ylim=(0, 5000),\n",
    "          color = 'orange',\n",
    "          figsize =(15,5),\n",
    "          ax=ax)\n",
    "plt.show()"
   ]
  },
  {
   "cell_type": "markdown",
   "id": "26054aa1",
   "metadata": {},
   "source": [
    "훈련 세트의 목표 분포\n",
    "거래의 3.5%가 사기입니다."
   ]
  },
  {
   "cell_type": "code",
   "execution_count": null,
   "id": "903775bf",
   "metadata": {},
   "outputs": [],
   "source": [
    "print('{:.4f}% of Transactions that are fraud in train '.format(train_t['isFraud'].mean() * 100))"
   ]
  },
  {
   "cell_type": "markdown",
   "id": "312c6762",
   "metadata": {},
   "source": [
    "Transactions 내 사기 거래의 3.4990% 라는 결과가 나옴."
   ]
  },
  {
   "cell_type": "code",
   "execution_count": null,
   "id": "445a4f0a",
   "metadata": {},
   "outputs": [],
   "source": [
    "train_t['TransactionAmt'] \\\n",
    "    .apply(np.log) \\\n",
    "    .plot(kind='hist',\n",
    "          bins=100,\n",
    "          figsize=(15, 5),\n",
    "          title='Distribution of Log Transaction Amt')\n",
    "plt.show()"
   ]
  },
  {
   "cell_type": "markdown",
   "id": "7f3f83e0",
   "metadata": {},
   "source": [
    "TransactionAmt : 거래 금액 <br>\n",
    "분포를 더 잘 보여주기 위해 이 플롯 중 일부에서 로그 변환을 수행했습니다.   <br>\n",
    "그렇지 않으면 소수의 매우 큰 트랜잭션이 분포를 왜곡합니다.  <br>\n",
    "로그 변환 때문에 0과 1 사이의 모든 값은 음수로 나타납니다.  <br>"
   ]
  },
  {
   "cell_type": "code",
   "execution_count": null,
   "id": "09f098bd",
   "metadata": {},
   "outputs": [],
   "source": [
    "# 그래프 중 subplot 을 만드는 코드\n",
    "fig, ((ax1, ax2), (ax3, ax4)) = plt.subplots(2, 2, figsize=(15, 6))\n",
    "train_t.loc[train_t['isFraud'] == 1] \\\n",
    "    ['TransactionAmt'].apply(np.log) \\  # TrainsactionAmt의 그래프를 그리기 위해 자연로그 수학 함수.\n",
    "    .plot(kind='hist', # hist 그래프.\n",
    "          bins=100,\n",
    "          title='Log Transaction Amt - Fraud',\n",
    "          color=color_pal[1],\n",
    "          xlim=(-3, 10),\n",
    "         ax= ax1)\n",
    "train_t.loc[train_t['isFraud'] == 0] \\\n",
    "    ['TransactionAmt'].apply(np.log) \\\n",
    "    .plot(kind='hist',\n",
    "          bins=100,\n",
    "          title='Log Transaction Amt - Not Fraud',\n",
    "          color=color_pal[2],\n",
    "          xlim=(-3, 10),\n",
    "         ax=ax2)\n",
    "train_t.loc[train_t['isFraud'] == 1] \\\n",
    "    ['TransactionAmt'] \\\n",
    "    .plot(kind='hist',\n",
    "          bins=100,\n",
    "          title='Transaction Amt - Fraud',\n",
    "          color=color_pal[1],\n",
    "         ax= ax3)\n",
    "train_t.loc[train_t['isFraud'] == 0] \\\n",
    "    ['TransactionAmt'] \\\n",
    "    .plot(kind='hist',\n",
    "          bins=100,\n",
    "          title='Transaction Amt - Not Fraud',\n",
    "          color=color_pal[2],\n",
    "         ax=ax4)\n",
    "plt.show()"
   ]
  },
  {
   "cell_type": "markdown",
   "id": "db47fb8b",
   "metadata": {},
   "source": [
    "사기 거래는 평균 거래 금액이 더 높다."
   ]
  },
  {
   "cell_type": "code",
   "execution_count": null,
   "id": "aa89b084",
   "metadata": {},
   "outputs": [],
   "source": [
    "# train_t에서 [isFraud]가 1일때 TrainsactionAmt의 평균을 구해 {: 4f}에 .format으로 추가해라.\n",
    "print('Mean transaction amt for fraud is {:.4f}'.format(train_t.loc[train_t['isFraud'] == 1]['TransactionAmt'].mean()))\n",
    "print('Mean transaction amt for non-fraud is {:.4f}'.format(train_t.loc[train_t['isFraud'] == 0]['TransactionAmt'].mean()))"
   ]
  },
  {
   "cell_type": "markdown",
   "id": "1b88f26e",
   "metadata": {},
   "source": [
    "사기 : 평균 거래 금액 149.2448 <br>\n",
    "비 사기 : 평균 거래 금액 134.5117"
   ]
  },
  {
   "cell_type": "markdown",
   "id": "6811042d",
   "metadata": {},
   "source": [
    "ProductCD <br>\n",
    "ProductCD C는 11% 이상으로 사기가 가장 많습니다. <br>\n",
    "ProductCD W는 ~2%로 가장 적습니다. <br>\n",
    "현재로서는 이 값이 정확히 무엇을 나타내는지 모릅니다. <br>\n",
    "W는 관측값 수가 가장 많고 C는 가장 적습니다. <br>"
   ]
  },
  {
   "cell_type": "code",
   "execution_count": null,
   "id": "7b083647",
   "metadata": {},
   "outputs": [],
   "source": [
    "# groupby : 전체 데이터를 통합하거나, 응용적으로, 한후, 그룹별 몹을 잡다 . (분할 => 기능 적용 => 결합)\n",
    "train_t.groupby('ProductCD') \\  # ProductCD + TransactionID 더해서 카운트하고 그룹해라.\n",
    "    ['TransactionID'].count() \\\n",
    "    .sort_index() \\ # 인덱스 기준으로 정렬해라.\n",
    "\n",
    "# 그래프 그리기.\n",
    "    .plot(kind='barh', \n",
    "          figsize=(15, 3),\n",
    "         title='Count of Observations by ProductCD')\n",
    "plt.show()"
   ]
  },
  {
   "cell_type": "code",
   "execution_count": null,
   "id": "cc56c03f",
   "metadata": {},
   "outputs": [],
   "source": [
    "# 전체 데이터 train_t에서  ProductCD+ isFraud그룹한것의 평균을 구해라.\n",
    "train_t.groupby('ProductCD')['isFraud'] \\\n",
    "    .mean() \\ # 평균 구하기 함수 mean()\n",
    "    .sort_index() \\ # index로 정렬해라.\n",
    "\n",
    "# 그래프 그리기\n",
    "    .plot(kind='barh',\n",
    "          figsize=(15, 3),\n",
    "         title='Percentage of Fraud by ProductCD')\n",
    "# 그래프 출력,\n",
    "plt.show() "
   ]
  },
  {
   "cell_type": "markdown",
   "id": "e37ef4f8",
   "metadata": {},
   "source": [
    "### Categorical Features - Transaction\n",
    "<details><summary>Categorical Features - Transaction 범주형이라고 한다.</summary>\n",
    "1. 데이터 설명에서 다음 트랜잭션 열이 범주형< br>\n",
    "2. ProductCD <br>\n",
    "3. emaildomain <br>\n",
    "4. card1 - card6 <br>\n",
    "5. addr1, addr2 <br>\n",
    "6. P_emaildomain <br>\n",
    "7. R_emaildomain <br>\n",
    "8. M1 - M9 <br>"
   ]
  },
  {
   "cell_type": "markdown",
   "id": "fc6a69e0",
   "metadata": {},
   "source": [
    "card1 - card6 일부는 숫자로 보이지만 이것들은 모두 범주형"
   ]
  },
  {
   "cell_type": "markdown",
   "id": "fc0ea900",
   "metadata": {},
   "source": [
    "신재하님 코드. "
   ]
  },
  {
   "cell_type": "code",
   "execution_count": null,
   "id": "c0e3bfb3",
   "metadata": {},
   "outputs": [],
   "source": [
    "\"\"\"\n",
    "#merge()함수는 두 데이터프레임을 각 데이터에 존재하는 고유값(key)을 기준으로 병합할때 사용\n",
    "# pd.merge(df_left, df_right, how='inner', on=None)이 default이다.\n",
    "# train_i,t를 병합.\n",
    "train_1 = pd.merge(train_t, train_i ,how=\"left\" ,on=\"TransactionID\"  )\n",
    "temp_9 = train_1.loc[:, 'ProductCD':'DeviceInfo'].copy()\n",
    "# tain_i의  'ProductCD':'DeviceInfo' 2개의 행을 가져와서 읽고 .copy() 카피 해 temp_9에 넣어라.\n",
    "temp_9 = pd.concat( [temp_9,train_1.loc[:, 'isFraud']] , axis=1 )\n",
    "# isFraud를 조회해서 템프_9\n",
    "# pd.concat()함수는 또한 default로 outer를 가진다.\n",
    "# 이어붙이는 방식을 outer는 합집합, inner는 교집합을 의미한다.\n",
    "from tqdm import tqdm\n",
    "import time\n",
    "# 딕셔너리 초기선언.\n",
    "all_list = {}\n",
    "# temp_9의 컬럼을 len(문자 개수를 반환하는 내장함수 range) 개산할레 tqpm이 idx넣고 반복?\n",
    "for idx in tqdm(range(len(temp_9.columns))) :\n",
    "    # 템프 9의 isFraud가 1일 때와 탬프9의컬럼 갯수를 temp_of_1번\n",
    "    temp_of_1 = temp_9[temp_9['isFraud']==1][temp_9.columns[idx]] #{1 :  20,663}\n",
    "    # 템프 9의 isFraud가 0일 때와 탬프9의컬럼 갯수를 temp_of_0번\n",
    "    temp_of_0 = temp_9[temp_9['isFraud']==0][temp_9.columns[idx]] #{0 : 569,877}\n",
    "    # temp_of_0의 모든 행을 고르고 temp_of_1과 [비교?] -> list_if_fraud로 넣어라.\n",
    "    list_if_fraud = temp_of_1[~temp_of_1.isin(temp_of_0)]\n",
    "    # 유니크 값이 50보다 크거나 같으면  list_if_fraud으로 넣어라.\n",
    "    if(0 < len(list_if_fraud.unique()) <= 50) :\n",
    "    #list_if_fraud의 유니크 값을 비교해서 = temp_0컬럼의 인데스 -> all list로 넣어라.\n",
    "        all_list[temp_9.columns[idx]] = list_if_fraud.unique()\n",
    "# 출력.\n",
    "all_list\n",
    "\"\"\""
   ]
  },
  {
   "cell_type": "markdown",
   "id": "29aa28d1",
   "metadata": {},
   "source": [
    "ProductCD\n",
    "ProductCD = C는 11% 이상으로 사기가 가장 많습니다.\n",
    "ProductCD = W는 ~2%로 가장 적습니다.\n",
    "현재로서는 이 값이 정확히 무엇을 나타내는지 모릅니다.\n",
    "W는 관측값 수가 가장 많고 C는 가장 적습니다."
   ]
  },
  {
   "cell_type": "code",
   "execution_count": null,
   "id": "af8df046",
   "metadata": {},
   "outputs": [],
   "source": []
  },
  {
   "cell_type": "code",
   "execution_count": null,
   "id": "8e634445",
   "metadata": {},
   "outputs": [],
   "source": []
  }
 ],
 "metadata": {
  "kernelspec": {
   "display_name": "Python 3 (ipykernel)",
   "language": "python",
   "name": "python3"
  },
  "language_info": {
   "codemirror_mode": {
    "name": "ipython",
    "version": 3
   },
   "file_extension": ".py",
   "mimetype": "text/x-python",
   "name": "python",
   "nbconvert_exporter": "python",
   "pygments_lexer": "ipython3",
   "version": "3.9.10"
  }
 },
 "nbformat": 4,
 "nbformat_minor": 5
}
